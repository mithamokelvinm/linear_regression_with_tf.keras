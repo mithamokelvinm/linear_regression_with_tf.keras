{
  "nbformat": 4,
  "nbformat_minor": 0,
  "metadata": {
    "colab": {
      "provenance": [],
      "authorship_tag": "ABX9TyNTE98invUKuco0Wp8ig4Gc",
      "include_colab_link": true
    },
    "kernelspec": {
      "name": "python3",
      "display_name": "Python 3"
    },
    "language_info": {
      "name": "python"
    }
  },
  "cells": [
    {
      "cell_type": "markdown",
      "metadata": {
        "id": "view-in-github",
        "colab_type": "text"
      },
      "source": [
        "<a href=\"https://colab.research.google.com/github/mithamokelvinm/linear_regression_with_tf.keras/blob/main/Validation_Sets_and_Test_Sets.ipynb\" target=\"_parent\"><img src=\"https://colab.research.google.com/assets/colab-badge.svg\" alt=\"Open In Colab\"/></a>"
      ]
    },
    {
      "cell_type": "markdown",
      "source": [
        "**Validation Sets and Test Sets**\n",
        "\n",
        "In the previous exercises, we evaluated the trained model aganist the training set. which does not provide a strong signal about the quality of the model.\n",
        "\n",
        "Here, we'll experiment with validation sets and test sets."
      ],
      "metadata": {
        "id": "FPxlrH8Ta-1I"
      }
    },
    {
      "cell_type": "markdown",
      "source": [
        "**Learning Objectives**\n",
        "\n",
        "We'll learn to:\n",
        "- Split a training set into a smaller training set and a validation set.\n",
        "- Analyze deltas between the training set and validation set results.\n",
        "- Test the trained model with a test set to determine whether your trained model is overfitting.\n",
        "- Detect and fix a common training problem."
      ],
      "metadata": {
        "id": "Aa7Lw-klckNG"
      }
    },
    {
      "cell_type": "markdown",
      "source": [
        "**The Dataset**\n",
        "\n",
        "This exercise uses the California Housing Dataset to predict the `median_house_value` at the cityblock level.\n",
        "\n",
        "Like many famous datasets, the California Housing Dataset actually consists of two separate datasets each living in separate .csv files:\n",
        "- The training set is in california_housing_train.csv\n",
        "- The test set is in california_housing_test.csv\n",
        "\n",
        "You'll create the validation set by dividing the downloaded training set into two parts:\n",
        "- A smaller training set\n",
        "- A validation set"
      ],
      "metadata": {
        "id": "khMdv1TTdjrX"
      }
    },
    {
      "cell_type": "markdown",
      "source": [
        "**Import Relevant Modules**"
      ],
      "metadata": {
        "id": "1MkTVO1Mf6Er"
      }
    },
    {
      "cell_type": "code",
      "source": [
        "# Import relevant modules\n",
        "import numpy as np\n",
        "import pandas as pd\n",
        "import tensorflow as tf\n",
        "from matplotlib import pyplot as plt\n",
        "\n",
        "pd.options.display.max_rows = 10\n",
        "pd.options.display.float_format = \"{:.1f}\".format"
      ],
      "metadata": {
        "id": "-LfE5q5agA9I"
      },
      "execution_count": 1,
      "outputs": []
    },
    {
      "cell_type": "markdown",
      "source": [
        "**Load the datasets from the internet**\n",
        "\n",
        "The following two code cells loads the separate .csv files and creates the following two pandas dataframes:\n",
        "- `train_df` which contains the training set.\n",
        "- `test_df` which contains the test set."
      ],
      "metadata": {
        "id": "UIsJllzngpTr"
      }
    },
    {
      "cell_type": "code",
      "source": [
        "# Load the datasets\n",
        "train_df = pd.read_csv(\"https://download.mlcc.google.com/mledu-datasets/california_housing_train.csv\")\n",
        "test_df = pd.read_csv(\"https://download.mlcc.google.com/mledu-datasets/california_housing_test.csv\")"
      ],
      "metadata": {
        "id": "FHVU1BsahTIy"
      },
      "execution_count": 2,
      "outputs": []
    },
    {
      "cell_type": "markdown",
      "source": [
        "**Scale the label values**"
      ],
      "metadata": {
        "id": "0n8lv0cEiLjv"
      }
    },
    {
      "cell_type": "code",
      "source": [
        "# Scale the label values\n",
        "scale_factor = 1000.0\n",
        "\n",
        "# Scale the training set's label\n",
        "train_df[\"median_house_value\"] /= scale_factor\n",
        "\n",
        "# Scale the test set's label\n",
        "test_df[\"median_house_value\"] /= scale_factor"
      ],
      "metadata": {
        "id": "UN3dpe5xiSWR"
      },
      "execution_count": 3,
      "outputs": []
    },
    {
      "cell_type": "markdown",
      "source": [
        "**Load the functions that build and train a model**\n",
        "\n",
        "The following code cell defines two functions:\n",
        "- `build_model` which defines the model's topography\n",
        "- `train_model` which will ultimately train the model, outputtin not only the loss value for the training set but also loss value for the validation set."
      ],
      "metadata": {
        "id": "lx0anVisjAyx"
      }
    },
    {
      "cell_type": "code",
      "source": [
        "# Define the functions that build and train a model\n",
        "def build_model(my_learning_rate):\n",
        "  \"\"\"Create and compile a simple linear regression model.\"\"\"\n",
        "  # Most simple tf.keras models are sequential\n",
        "  model = tf.keras.models.Sequential()\n",
        "\n",
        "  # Add one linear layer to the model to yield a simple linear regressor.\n",
        "  model.add(tf.keras.layers.Dense(units = 1, input_shape = (1,)))\n",
        "\n",
        "  # Compile the model topography into code that TensorFlow can efficiently\n",
        "  # execute. Configure training to minimize the model's mean squared error.\n",
        "  model.compile(optimizer = tf.keras.optimizers.RMSprop(lr = my_learning_rate),\n",
        "                loss = \"mean_squared_error\",\n",
        "                metrics = [tf.keras.metrics.RootMeanSquaredError()])\n",
        "  \n",
        "  return model\n",
        "\n",
        "\n",
        "def train_model(model, df, feature, label, my_epochs,\n",
        "                my_batch_size = None, my_validation_split = 0.1):\n",
        "  \"\"\"Feed a dataset into the model in order to train it.\"\"\"\n",
        "\n",
        "  history = model.fit(x = df[feature],\n",
        "                      y = df[label],\n",
        "                      batch_size = my_batch_size,\n",
        "                      epochs = my_epochs,\n",
        "                      validation_split = my_validation_split)\n",
        "  \n",
        "  # Gather the model' trained weight and bias\n",
        "  trained_weight = model.get_weights()[0]\n",
        "  trained_bias = model.get_weights()[1]\n",
        "\n",
        "  # The list of epochs is stored separately from the rest of history\n",
        "  epochs = history.epoch\n",
        "\n",
        "  # Isolate the root mean squared error for each epoch\n",
        "  hist = pd.DataFrame(history.history)\n",
        "  rmse = hist[\"root_mean_squared_error\"]\n",
        "\n",
        "  return epochs, rmse, history.history\n",
        "\n",
        "\n",
        "print(\"Defined the build_model amd train_model functions\")"
      ],
      "metadata": {
        "colab": {
          "base_uri": "https://localhost:8080/"
        },
        "id": "FNzBkcWgjs7i",
        "outputId": "9316f987-b52e-4657-fb7f-c80f38ca6af4"
      },
      "execution_count": 7,
      "outputs": [
        {
          "output_type": "stream",
          "name": "stdout",
          "text": [
            "Defined the build_model amd train_model functions\n"
          ]
        }
      ]
    },
    {
      "cell_type": "markdown",
      "source": [
        "**Define the plotting functions**\n",
        "\n",
        "The `plot_the_loss_curve` plots loss vs. epochs for both the training set and the validation set."
      ],
      "metadata": {
        "id": "30kOsJqVn72C"
      }
    },
    {
      "cell_type": "code",
      "source": [
        "# Define the plotting functions\n",
        "def plot_the_loss_curve(epochs, mae_training, mae_validation):\n",
        "  \"\"\"Plot a curve of loss vs. epoch.\"\"\"\n",
        "\n",
        "  plt.figure()\n",
        "  plt.xlabel(\"Epochs\")\n",
        "  plt.ylabel(\"Root Mean Squared Error\")\n",
        "\n",
        "  plt.plot(epochs[1:], mae_training[1:], label = \"Training Loss\")\n",
        "  plt.plot(epochs[1:], mae_validation[1:], label = \"Validation Loss\")\n",
        "  plt.legend()\n",
        "\n",
        "  # We're not going to plot the first epoch, since the loss on the\n",
        "  # first epoch is often substantially greater than the loss for \n",
        "  # the other epochs.\n",
        "  merged_mae_list = mae_training[1:] + mae_validation[1:]\n",
        "  highest_loss = max(merged_mae_list)\n",
        "  lowest_loss = min(merged_mae_list)\n",
        "  delta = highest_loss - lowest_loss\n",
        "  print(delta)\n",
        "\n",
        "  top_of_y_axis = highest_loss + (delta * 0.05)\n",
        "  bottom_of_y_axis = lowest_loss - (delta * 0.05)\n",
        "\n",
        "  plt.ylim([bottom_of_y_axis, top_of_y_axis])\n",
        "  plt.show()\n",
        "\n",
        "\n",
        "print(\"Defined the plot_the_loss_curve function\")"
      ],
      "metadata": {
        "colab": {
          "base_uri": "https://localhost:8080/"
        },
        "id": "kg5X1cgbpEHs",
        "outputId": "a4ff0d89-8813-4675-99b8-50407f5a4c75"
      },
      "execution_count": 12,
      "outputs": [
        {
          "output_type": "stream",
          "name": "stdout",
          "text": [
            "Defined the plot_the_loss_curve function\n"
          ]
        }
      ]
    },
    {
      "cell_type": "markdown",
      "source": [
        "**Task 1: Experiment with validation splits**\n",
        "\n",
        "In the following code cell, we'll see a variable named `validation_split`, which is initialized as 0.2.\n",
        "\n",
        "The `validation_split` variable specifies the proportion of the original training set that will serve as the validation set.\n",
        "\n",
        "The original training set contains 17,000 examples.\n",
        "\n",
        "Therefore, a `validation_split` of 0.2 means that:\n",
        "- 17000 * 0.2 ~= 3,400 examples will therefore become the validation set.\n",
        "- 17000 * 0.8 ~= 13,600 examples will therefore become the training set.\n",
        "\n",
        "The following code builds a model, trains it on the training set, and evaluates the built model on both:\n",
        "- The `training_set`\n",
        "- And the `validation_set`\n",
        "\n",
        "If the data in the training set is similar to the data in the validation set, then the two loss curves and the final loss values should be almost identical.\n",
        "\n",
        "However, the loss curves and final loss values are not almost identical. Hmm, that's odd.\n",
        "\n",
        "Experiement with two or three different values of the `validation_split`\n",
        "\n",
        "Do different values of `validation_split` fix the problem?"
      ],
      "metadata": {
        "id": "Dne79MU4sH2R"
      }
    },
    {
      "cell_type": "code",
      "source": [
        "# The following variables are the hyperparameters\n",
        "learning_rate = 0.08\n",
        "epochs = 30\n",
        "batch_size = 100\n",
        "\n",
        "# Split the original training set into reduced training set and a validation set\n",
        "validation_split = 0.2\n",
        "\n",
        "# Identify the feature and the label\n",
        "my_feature = \"median_income\"  # the median income on a specific city block\n",
        "my_label = \"median_house_value\"  # the median house value in a specific city block\n",
        "# That is, we're going to create a model that predicts house value based soley\n",
        "# on the neighbourhood's median income.\n",
        "\n",
        "# Invoke the functions to build and train the model\n",
        "my_model = build_model(learning_rate)\n",
        "epochs, rmse, history = train_model(my_model, train_df, my_feature,\n",
        "                                    my_label, epochs, batch_size, \n",
        "                                    validation_split)\n",
        "\n",
        "plot_the_loss_curve(epochs, history[\"root_mean_squared_error\"], \n",
        "                    history[\"val_root_mean_squared_error\"])"
      ],
      "metadata": {
        "colab": {
          "base_uri": "https://localhost:8080/",
          "height": 1000
        },
        "id": "zAlGNU_CyrNF",
        "outputId": "ae22be83-59f5-46f6-ee88-9bab80e3902b"
      },
      "execution_count": 13,
      "outputs": [
        {
          "output_type": "stream",
          "name": "stdout",
          "text": [
            "Epoch 1/30\n",
            "136/136 [==============================] - 1s 3ms/step - loss: 41842.8828 - root_mean_squared_error: 204.5553 - val_loss: 50740.0898 - val_root_mean_squared_error: 225.2556\n",
            "Epoch 2/30\n",
            "136/136 [==============================] - 0s 2ms/step - loss: 24304.5215 - root_mean_squared_error: 155.8991 - val_loss: 29909.0781 - val_root_mean_squared_error: 172.9424\n",
            "Epoch 3/30\n",
            "136/136 [==============================] - 0s 2ms/step - loss: 12916.9297 - root_mean_squared_error: 113.6527 - val_loss: 16251.6729 - val_root_mean_squared_error: 127.4820\n",
            "Epoch 4/30\n",
            "136/136 [==============================] - 0s 2ms/step - loss: 7502.8960 - root_mean_squared_error: 86.6193 - val_loss: 9831.4990 - val_root_mean_squared_error: 99.1539\n",
            "Epoch 5/30\n",
            "136/136 [==============================] - 0s 2ms/step - loss: 6518.3584 - root_mean_squared_error: 80.7364 - val_loss: 9298.7217 - val_root_mean_squared_error: 96.4299\n",
            "Epoch 6/30\n",
            "136/136 [==============================] - 0s 2ms/step - loss: 6513.2402 - root_mean_squared_error: 80.7047 - val_loss: 9208.1768 - val_root_mean_squared_error: 95.9592\n",
            "Epoch 7/30\n",
            "136/136 [==============================] - 0s 2ms/step - loss: 6512.4434 - root_mean_squared_error: 80.6997 - val_loss: 9343.9551 - val_root_mean_squared_error: 96.6641\n",
            "Epoch 8/30\n",
            "136/136 [==============================] - 0s 2ms/step - loss: 6513.8179 - root_mean_squared_error: 80.7082 - val_loss: 9257.7402 - val_root_mean_squared_error: 96.2171\n",
            "Epoch 9/30\n",
            "136/136 [==============================] - 0s 2ms/step - loss: 6511.7700 - root_mean_squared_error: 80.6955 - val_loss: 9450.5361 - val_root_mean_squared_error: 97.2139\n",
            "Epoch 10/30\n",
            "136/136 [==============================] - 0s 2ms/step - loss: 6512.5718 - root_mean_squared_error: 80.7005 - val_loss: 9201.4971 - val_root_mean_squared_error: 95.9244\n",
            "Epoch 11/30\n",
            "136/136 [==============================] - 0s 2ms/step - loss: 6513.9731 - root_mean_squared_error: 80.7092 - val_loss: 9137.2598 - val_root_mean_squared_error: 95.5890\n",
            "Epoch 12/30\n",
            "136/136 [==============================] - 0s 2ms/step - loss: 6514.2700 - root_mean_squared_error: 80.7110 - val_loss: 9287.3018 - val_root_mean_squared_error: 96.3707\n",
            "Epoch 13/30\n",
            "136/136 [==============================] - 0s 2ms/step - loss: 6513.4253 - root_mean_squared_error: 80.7058 - val_loss: 9259.2246 - val_root_mean_squared_error: 96.2249\n",
            "Epoch 14/30\n",
            "136/136 [==============================] - 0s 2ms/step - loss: 6513.0342 - root_mean_squared_error: 80.7034 - val_loss: 9228.7275 - val_root_mean_squared_error: 96.0663\n",
            "Epoch 15/30\n",
            "136/136 [==============================] - 0s 2ms/step - loss: 6514.0249 - root_mean_squared_error: 80.7095 - val_loss: 9280.4814 - val_root_mean_squared_error: 96.3353\n",
            "Epoch 16/30\n",
            "136/136 [==============================] - 0s 2ms/step - loss: 6513.7266 - root_mean_squared_error: 80.7077 - val_loss: 9268.2109 - val_root_mean_squared_error: 96.2715\n",
            "Epoch 17/30\n",
            "136/136 [==============================] - 0s 2ms/step - loss: 6513.8770 - root_mean_squared_error: 80.7086 - val_loss: 9322.2549 - val_root_mean_squared_error: 96.5518\n",
            "Epoch 18/30\n",
            "136/136 [==============================] - 0s 2ms/step - loss: 6513.5464 - root_mean_squared_error: 80.7065 - val_loss: 9263.6543 - val_root_mean_squared_error: 96.2479\n",
            "Epoch 19/30\n",
            "136/136 [==============================] - 0s 2ms/step - loss: 6513.7310 - root_mean_squared_error: 80.7077 - val_loss: 9280.7959 - val_root_mean_squared_error: 96.3369\n",
            "Epoch 20/30\n",
            "136/136 [==============================] - 0s 2ms/step - loss: 6513.7505 - root_mean_squared_error: 80.7078 - val_loss: 9205.4531 - val_root_mean_squared_error: 95.9451\n",
            "Epoch 21/30\n",
            "136/136 [==============================] - 0s 2ms/step - loss: 6514.0542 - root_mean_squared_error: 80.7097 - val_loss: 9302.6074 - val_root_mean_squared_error: 96.4500\n",
            "Epoch 22/30\n",
            "136/136 [==============================] - 0s 2ms/step - loss: 6512.7949 - root_mean_squared_error: 80.7019 - val_loss: 9180.9521 - val_root_mean_squared_error: 95.8173\n",
            "Epoch 23/30\n",
            "136/136 [==============================] - 0s 2ms/step - loss: 6513.2412 - root_mean_squared_error: 80.7047 - val_loss: 9290.2783 - val_root_mean_squared_error: 96.3861\n",
            "Epoch 24/30\n",
            "136/136 [==============================] - 0s 2ms/step - loss: 6513.5459 - root_mean_squared_error: 80.7065 - val_loss: 9251.6621 - val_root_mean_squared_error: 96.1856\n",
            "Epoch 25/30\n",
            "136/136 [==============================] - 0s 2ms/step - loss: 6513.3379 - root_mean_squared_error: 80.7053 - val_loss: 9210.9492 - val_root_mean_squared_error: 95.9737\n",
            "Epoch 26/30\n",
            "136/136 [==============================] - 0s 2ms/step - loss: 6512.7222 - root_mean_squared_error: 80.7014 - val_loss: 9428.7119 - val_root_mean_squared_error: 97.1016\n",
            "Epoch 27/30\n",
            "136/136 [==============================] - 0s 2ms/step - loss: 6513.9033 - root_mean_squared_error: 80.7088 - val_loss: 9350.2285 - val_root_mean_squared_error: 96.6966\n",
            "Epoch 28/30\n",
            "136/136 [==============================] - 0s 2ms/step - loss: 6512.4346 - root_mean_squared_error: 80.6997 - val_loss: 9263.8125 - val_root_mean_squared_error: 96.2487\n",
            "Epoch 29/30\n",
            "136/136 [==============================] - 0s 2ms/step - loss: 6513.6411 - root_mean_squared_error: 80.7071 - val_loss: 9334.0996 - val_root_mean_squared_error: 96.6131\n",
            "Epoch 30/30\n",
            "136/136 [==============================] - 0s 2ms/step - loss: 6509.6699 - root_mean_squared_error: 80.6825 - val_loss: 9348.3408 - val_root_mean_squared_error: 96.6868\n",
            "92.2598876953125\n"
          ]
        },
        {
          "output_type": "display_data",
          "data": {
            "text/plain": [
              "<Figure size 432x288 with 1 Axes>"
            ],
            "image/png": "[encoded data removed]"
          },
          "metadata": {
            "needs_background": "light"
          }
        }
      ]
    },
    {
      "cell_type": "markdown",
      "source": [
        "**Task 2: Determine why the loss curves differ**\n",
        "\n",
        "No matter how you split the trainning set and validation set, the loss curves differ significantly.\n",
        "\n",
        "Evidently, the data in th training set isn't similar enough to the data in the validation set. Counterintuitive? Yes, but this problem is pretty common in machine learning.\n",
        "\n",
        "Our task is to determine why the loss curves aren't highly similar.\n",
        "\n",
        "As with most issues in machine learning, the problem is rooted in the data itself. \n",
        "\n",
        "To solve this mystery, of why the training set and the validation set aren't almost identical, write a line or two of Pandas code in the following code cell.\n",
        "\n",
        "Here are a couple of hints:\n",
        "- A reduced training set (the original training set - the validation set)\n",
        "- The validation set\n",
        "\n",
        "By default, the pandas `head()` method outputs the first five rows of the DataFrame. To see more of the training set, specify the n argument to head and assign a large posive integer to n."
      ],
      "metadata": {
        "id": "4UxPi9dn1NQQ"
      }
    },
    {
      "cell_type": "code",
      "source": [
        "# Write some code in this cell\n",
        "\n",
        "# Examine examples 0 through 4 and examples 995 through 999 of the training set\n",
        "train_df.head(n=1000)"
      ],
      "metadata": {
        "colab": {
          "base_uri": "https://localhost:8080/",
          "height": 423
        },
        "id": "McJS8ZrV5oi_",
        "outputId": "7a6f60a5-88da-471e-c33a-b74a8c343911"
      },
      "execution_count": 18,
      "outputs": [
        {
          "output_type": "execute_result",
          "data": {
            "text/plain": [
              "     longitude  latitude  housing_median_age  total_rooms  total_bedrooms  \\\n",
              "0       -114.3      34.2                15.0       5612.0          1283.0   \n",
              "1       -114.5      34.4                19.0       7650.0          1901.0   \n",
              "2       -114.6      33.7                17.0        720.0           174.0   \n",
              "3       -114.6      33.6                14.0       1501.0           337.0   \n",
              "4       -114.6      33.6                20.0       1454.0           326.0   \n",
              "..         ...       ...                 ...          ...             ...   \n",
              "995     -117.1      32.5                 8.0       6533.0          1217.0   \n",
              "996     -117.1      34.6                 6.0       5110.0          1044.0   \n",
              "997     -117.1      34.2                22.0       4397.0           931.0   \n",
              "998     -117.1      34.0                24.0       4144.0           826.0   \n",
              "999     -117.1      33.6                 6.0       1868.0           289.0   \n",
              "\n",
              "     population  households  median_income  median_house_value  \n",
              "0        1015.0       472.0            1.5                66.9  \n",
              "1        1129.0       463.0            1.8                80.1  \n",
              "2         333.0       117.0            1.7                85.7  \n",
              "3         515.0       226.0            3.2                73.4  \n",
              "4         624.0       262.0            1.9                65.5  \n",
              "..          ...         ...            ...                 ...  \n",
              "995      4797.0      1177.0            4.0               144.4  \n",
              "996      1938.0       724.0            3.2               112.8  \n",
              "997      1145.0       445.0            4.5               108.4  \n",
              "998      2127.0       772.0            2.5                96.0  \n",
              "999       750.0       247.0            4.4               307.6  \n",
              "\n",
              "[1000 rows x 9 columns]"
            ],
            "text/html": [
              "\n",
              "  <div id=\"df-08926fe0-9c2b-4830-9a01-a37543b31b3e\">\n",
              "    <div class=\"colab-df-container\">\n",
              "      <div>\n",
              "<style scoped>\n",
              "    .dataframe tbody tr th:only-of-type {\n",
              "        vertical-align: middle;\n",
              "    }\n",
              "\n",
              "    .dataframe tbody tr th {\n",
              "        vertical-align: top;\n",
              "    }\n",
              "\n",
              "    .dataframe thead th {\n",
              "        text-align: right;\n",
              "    }\n",
              "</style>\n",
              "<table border=\"1\" class=\"dataframe\">\n",
              "  <thead>\n",
              "    <tr style=\"text-align: right;\">\n",
              "      <th></th>\n",
              "      <th>longitude</th>\n",
              "      <th>latitude</th>\n",
              "      <th>housing_median_age</th>\n",
              "      <th>total_rooms</th>\n",
              "      <th>total_bedrooms</th>\n",
              "      <th>population</th>\n",
              "      <th>households</th>\n",
              "      <th>median_income</th>\n",
              "      <th>median_house_value</th>\n",
              "    </tr>\n",
              "  </thead>\n",
              "  <tbody>\n",
              "    <tr>\n",
              "      <th>0</th>\n",
              "      <td>-114.3</td>\n",
              "      <td>34.2</td>\n",
              "      <td>15.0</td>\n",
              "      <td>5612.0</td>\n",
              "      <td>1283.0</td>\n",
              "      <td>1015.0</td>\n",
              "      <td>472.0</td>\n",
              "      <td>1.5</td>\n",
              "      <td>66.9</td>\n",
              "    </tr>\n",
              "    <tr>\n",
              "      <th>1</th>\n",
              "      <td>-114.5</td>\n",
              "      <td>34.4</td>\n",
              "      <td>19.0</td>\n",
              "      <td>7650.0</td>\n",
              "      <td>1901.0</td>\n",
              "      <td>1129.0</td>\n",
              "      <td>463.0</td>\n",
              "      <td>1.8</td>\n",
              "      <td>80.1</td>\n",
              "    </tr>\n",
              "    <tr>\n",
              "      <th>2</th>\n",
              "      <td>-114.6</td>\n",
              "      <td>33.7</td>\n",
              "      <td>17.0</td>\n",
              "      <td>720.0</td>\n",
              "      <td>174.0</td>\n",
              "      <td>333.0</td>\n",
              "      <td>117.0</td>\n",
              "      <td>1.7</td>\n",
              "      <td>85.7</td>\n",
              "    </tr>\n",
              "    <tr>\n",
              "      <th>3</th>\n",
              "      <td>-114.6</td>\n",
              "      <td>33.6</td>\n",
              "      <td>14.0</td>\n",
              "      <td>1501.0</td>\n",
              "      <td>337.0</td>\n",
              "      <td>515.0</td>\n",
              "      <td>226.0</td>\n",
              "      <td>3.2</td>\n",
              "      <td>73.4</td>\n",
              "    </tr>\n",
              "    <tr>\n",
              "      <th>4</th>\n",
              "      <td>-114.6</td>\n",
              "      <td>33.6</td>\n",
              "      <td>20.0</td>\n",
              "      <td>1454.0</td>\n",
              "      <td>326.0</td>\n",
              "      <td>624.0</td>\n",
              "      <td>262.0</td>\n",
              "      <td>1.9</td>\n",
              "      <td>65.5</td>\n",
              "    </tr>\n",
              "    <tr>\n",
              "      <th>...</th>\n",
              "      <td>...</td>\n",
              "      <td>...</td>\n",
              "      <td>...</td>\n",
              "      <td>...</td>\n",
              "      <td>...</td>\n",
              "      <td>...</td>\n",
              "      <td>...</td>\n",
              "      <td>...</td>\n",
              "      <td>...</td>\n",
              "    </tr>\n",
              "    <tr>\n",
              "      <th>995</th>\n",
              "      <td>-117.1</td>\n",
              "      <td>32.5</td>\n",
              "      <td>8.0</td>\n",
              "      <td>6533.0</td>\n",
              "      <td>1217.0</td>\n",
              "      <td>4797.0</td>\n",
              "      <td>1177.0</td>\n",
              "      <td>4.0</td>\n",
              "      <td>144.4</td>\n",
              "    </tr>\n",
              "    <tr>\n",
              "      <th>996</th>\n",
              "      <td>-117.1</td>\n",
              "      <td>34.6</td>\n",
              "      <td>6.0</td>\n",
              "      <td>5110.0</td>\n",
              "      <td>1044.0</td>\n",
              "      <td>1938.0</td>\n",
              "      <td>724.0</td>\n",
              "      <td>3.2</td>\n",
              "      <td>112.8</td>\n",
              "    </tr>\n",
              "    <tr>\n",
              "      <th>997</th>\n",
              "      <td>-117.1</td>\n",
              "      <td>34.2</td>\n",
              "      <td>22.0</td>\n",
              "      <td>4397.0</td>\n",
              "      <td>931.0</td>\n",
              "      <td>1145.0</td>\n",
              "      <td>445.0</td>\n",
              "      <td>4.5</td>\n",
              "      <td>108.4</td>\n",
              "    </tr>\n",
              "    <tr>\n",
              "      <th>998</th>\n",
              "      <td>-117.1</td>\n",
              "      <td>34.0</td>\n",
              "      <td>24.0</td>\n",
              "      <td>4144.0</td>\n",
              "      <td>826.0</td>\n",
              "      <td>2127.0</td>\n",
              "      <td>772.0</td>\n",
              "      <td>2.5</td>\n",
              "      <td>96.0</td>\n",
              "    </tr>\n",
              "    <tr>\n",
              "      <th>999</th>\n",
              "      <td>-117.1</td>\n",
              "      <td>33.6</td>\n",
              "      <td>6.0</td>\n",
              "      <td>1868.0</td>\n",
              "      <td>289.0</td>\n",
              "      <td>750.0</td>\n",
              "      <td>247.0</td>\n",
              "      <td>4.4</td>\n",
              "      <td>307.6</td>\n",
              "    </tr>\n",
              "  </tbody>\n",
              "</table>\n",
              "<p>1000 rows × 9 columns</p>\n",
              "</div>\n",
              "      <button class=\"colab-df-convert\" onclick=\"convertToInteractive('df-08926fe0-9c2b-4830-9a01-a37543b31b3e')\"\n",
              "              title=\"Convert this dataframe to an interactive table.\"\n",
              "              style=\"display:none;\">\n",
              "        \n",
              "  <svg xmlns=\"http://www.w3.org/2000/svg\" height=\"24px\"viewBox=\"0 0 24 24\"\n",
              "       width=\"24px\">\n",
              "    <path d=\"M0 0h24v24H0V0z\" fill=\"none\"/>\n",
              "    <path d=\"M18.56 5.44l.94 2.06.94-2.06 2.06-.94-2.06-.94-.94-2.06-.94 2.06-2.06.94zm-11 1L8.5 8.5l.94-2.06 2.06-.94-2.06-.94L8.5 2.5l-.94 2.06-2.06.94zm10 10l.94 2.06.94-2.06 2.06-.94-2.06-.94-.94-2.06-.94 2.06-2.06.94z\"/><path d=\"M17.41 7.96l-1.37-1.37c-.4-.4-.92-.59-1.43-.59-.52 0-1.04.2-1.43.59L10.3 9.45l-7.72 7.72c-.78.78-.78 2.05 0 2.83L4 21.41c.39.39.9.59 1.41.59.51 0 1.02-.2 1.41-.59l7.78-7.78 2.81-2.81c.8-.78.8-2.07 0-2.86zM5.41 20L4 18.59l7.72-7.72 1.47 1.35L5.41 20z\"/>\n",
              "  </svg>\n",
              "      </button>\n",
              "      \n",
              "  <style>\n",
              "    .colab-df-container {\n",
              "      display:flex;\n",
              "      flex-wrap:wrap;\n",
              "      gap: 12px;\n",
              "    }\n",
              "\n",
              "    .colab-df-convert {\n",
              "      background-color: #E8F0FE;\n",
              "      border: none;\n",
              "      border-radius: 50%;\n",
              "      cursor: pointer;\n",
              "      display: none;\n",
              "      fill: #1967D2;\n",
              "      height: 32px;\n",
              "      padding: 0 0 0 0;\n",
              "      width: 32px;\n",
              "    }\n",
              "\n",
              "    .colab-df-convert:hover {\n",
              "      background-color: #E2EBFA;\n",
              "      box-shadow: 0px 1px 2px rgba(60, 64, 67, 0.3), 0px 1px 3px 1px rgba(60, 64, 67, 0.15);\n",
              "      fill: #174EA6;\n",
              "    }\n",
              "\n",
              "    [theme=dark] .colab-df-convert {\n",
              "      background-color: #3B4455;\n",
              "      fill: #D2E3FC;\n",
              "    }\n",
              "\n",
              "    [theme=dark] .colab-df-convert:hover {\n",
              "      background-color: #434B5C;\n",
              "      box-shadow: 0px 1px 3px 1px rgba(0, 0, 0, 0.15);\n",
              "      filter: drop-shadow(0px 1px 2px rgba(0, 0, 0, 0.3));\n",
              "      fill: #FFFFFF;\n",
              "    }\n",
              "  </style>\n",
              "\n",
              "      <script>\n",
              "        const buttonEl =\n",
              "          document.querySelector('#df-08926fe0-9c2b-4830-9a01-a37543b31b3e button.colab-df-convert');\n",
              "        buttonEl.style.display =\n",
              "          google.colab.kernel.accessAllowed ? 'block' : 'none';\n",
              "\n",
              "        async function convertToInteractive(key) {\n",
              "          const element = document.querySelector('#df-08926fe0-9c2b-4830-9a01-a37543b31b3e');\n",
              "          const dataTable =\n",
              "            await google.colab.kernel.invokeFunction('convertToInteractive',\n",
              "                                                     [key], {});\n",
              "          if (!dataTable) return;\n",
              "\n",
              "          const docLinkHtml = 'Like what you see? Visit the ' +\n",
              "            '<a target=\"_blank\" href=https://colab.research.google.com/notebooks/data_table.ipynb>data table notebook</a>'\n",
              "            + ' to learn more about interactive tables.';\n",
              "          element.innerHTML = '';\n",
              "          dataTable['output_type'] = 'display_data';\n",
              "          await google.colab.output.renderOutput(dataTable, element);\n",
              "          const docLink = document.createElement('div');\n",
              "          docLink.innerHTML = docLinkHtml;\n",
              "          element.appendChild(docLink);\n",
              "        }\n",
              "      </script>\n",
              "    </div>\n",
              "  </div>\n",
              "  "
            ]
          },
          "metadata": {},
          "execution_count": 18
        }
      ]
    },
    {
      "cell_type": "markdown",
      "source": [
        "We find that the original training set is sorted by longitude.\n",
        "\n",
        "Apparently, longitude influences the relationship of `total_rooms` to `median_house_value`."
      ],
      "metadata": {
        "id": "eIaf1gM55--x"
      }
    },
    {
      "cell_type": "markdown",
      "source": [
        "**Task 3: Fix the problem**\n",
        "\n",
        "To fix the problem, shuffle the examples in the training set before splitting the examples into a training set and a validation set.\n",
        "\n",
        "To do so, take the following steps:\n",
        "- Shuffle the data in the training set by adding the following line anywhere before you call `train_model` (In the code cell associated with Task 1):\n",
        "\n",
        "`shuffled_train_df = train_df.reindex(np.random.permutations(train_df.index)`\n",
        "- Pass `shuffled_train_df` (instead of `train_df`) as the second argument to `train_model` (In the code cell associated with task 1) so that the call becomes as folows:\n",
        "\n",
        "`epochs, rmse, history = train_model(my_model, shuffled_train_df, my_feature, my_label, epochs, batch_size, \n",
        "validation_split)`"
      ],
      "metadata": {
        "id": "FuYc65K47Hsr"
      }
    },
    {
      "cell_type": "markdown",
      "source": [
        "**The complete implementation**"
      ],
      "metadata": {
        "id": "d5IGKVZk9try"
      }
    },
    {
      "cell_type": "code",
      "source": [
        "# The following variables are the hyperparameters\n",
        "learning_rate = 0.08\n",
        "epochs = 70\n",
        "batch_size = 100\n",
        "\n",
        "# Split the original training set into a reduced training set and a validation set\n",
        "validation_split = 0.2\n",
        "\n",
        "# Identify the feature and the label\n",
        "my_feature = \"median_income\"  # the median income on a specific city block\n",
        "my_label = \"median_house_value\"  # the median house value on a specific city block\n",
        "# That is, we're going to create a model that predicts house value based soley\n",
        "# on the neighbourhood's median income.\n",
        "\n",
        "# Shuffle the examples\n",
        "shuffled_train_df = train_df.reindex(np.random.permutation(train_df.index))\n",
        "\n",
        "# Invoke the functions to build and train the model\n",
        "# Train on the shuffled training set\n",
        "my_model = build_model(learning_rate)\n",
        "epochs, rmse, history = train_model(my_model, shuffled_train_df, my_feature,\n",
        "                                    my_label, epochs, batch_size,\n",
        "                                    validation_split)\n",
        "\n",
        "plot_the_loss_curve(epochs, history[\"root_mean_squared_error\"],\n",
        "                    history[\"val_root_mean_squared_error\"])"
      ],
      "metadata": {
        "colab": {
          "base_uri": "https://localhost:8080/",
          "height": 1000
        },
        "id": "RtgJi9_K-ZkJ",
        "outputId": "f6d98ed9-89a9-494f-d87b-d584e8ed6b7e"
      },
      "execution_count": 20,
      "outputs": [
        {
          "output_type": "stream",
          "name": "stdout",
          "text": [
            "Epoch 1/70\n",
            "136/136 [==============================] - 1s 2ms/step - loss: 45060.0039 - root_mean_squared_error: 212.2734 - val_loss: 34552.7383 - val_root_mean_squared_error: 185.8837\n",
            "Epoch 2/70\n",
            "136/136 [==============================] - 0s 2ms/step - loss: 26499.3574 - root_mean_squared_error: 162.7862 - val_loss: 19414.1152 - val_root_mean_squared_error: 139.3345\n",
            "Epoch 3/70\n",
            "136/136 [==============================] - 0s 2ms/step - loss: 14326.5645 - root_mean_squared_error: 119.6936 - val_loss: 10372.9951 - val_root_mean_squared_error: 101.8479\n",
            "Epoch 4/70\n",
            "136/136 [==============================] - 0s 2ms/step - loss: 8195.7139 - root_mean_squared_error: 90.5302 - val_loss: 7203.0771 - val_root_mean_squared_error: 84.8709\n",
            "Epoch 5/70\n",
            "136/136 [==============================] - 0s 2ms/step - loss: 6993.5708 - root_mean_squared_error: 83.6276 - val_loss: 7114.6743 - val_root_mean_squared_error: 84.3485\n",
            "Epoch 6/70\n",
            "136/136 [==============================] - 0s 2ms/step - loss: 6990.1411 - root_mean_squared_error: 83.6071 - val_loss: 7114.1343 - val_root_mean_squared_error: 84.3453\n",
            "Epoch 7/70\n",
            "136/136 [==============================] - 0s 2ms/step - loss: 6988.8735 - root_mean_squared_error: 83.5995 - val_loss: 7117.7798 - val_root_mean_squared_error: 84.3669\n",
            "Epoch 8/70\n",
            "136/136 [==============================] - 0s 2ms/step - loss: 6987.0771 - root_mean_squared_error: 83.5887 - val_loss: 7122.2676 - val_root_mean_squared_error: 84.3935\n",
            "Epoch 9/70\n",
            "136/136 [==============================] - 0s 2ms/step - loss: 6988.7329 - root_mean_squared_error: 83.5986 - val_loss: 7114.2100 - val_root_mean_squared_error: 84.3458\n",
            "Epoch 10/70\n",
            "136/136 [==============================] - 0s 2ms/step - loss: 6989.0337 - root_mean_squared_error: 83.6004 - val_loss: 7114.0981 - val_root_mean_squared_error: 84.3451\n",
            "Epoch 11/70\n",
            "136/136 [==============================] - 0s 2ms/step - loss: 6988.5200 - root_mean_squared_error: 83.5974 - val_loss: 7114.3999 - val_root_mean_squared_error: 84.3469\n",
            "Epoch 12/70\n",
            "136/136 [==============================] - 0s 2ms/step - loss: 6988.3569 - root_mean_squared_error: 83.5964 - val_loss: 7121.6284 - val_root_mean_squared_error: 84.3897\n",
            "Epoch 13/70\n",
            "136/136 [==============================] - 0s 2ms/step - loss: 6990.7817 - root_mean_squared_error: 83.6109 - val_loss: 7114.1094 - val_root_mean_squared_error: 84.3452\n",
            "Epoch 14/70\n",
            "136/136 [==============================] - 0s 2ms/step - loss: 6988.1987 - root_mean_squared_error: 83.5954 - val_loss: 7116.2363 - val_root_mean_squared_error: 84.3578\n",
            "Epoch 15/70\n",
            "136/136 [==============================] - 0s 2ms/step - loss: 6989.7539 - root_mean_squared_error: 83.6048 - val_loss: 7114.8916 - val_root_mean_squared_error: 84.3498\n",
            "Epoch 16/70\n",
            "136/136 [==============================] - 0s 2ms/step - loss: 6988.9043 - root_mean_squared_error: 83.5997 - val_loss: 7114.3813 - val_root_mean_squared_error: 84.3468\n",
            "Epoch 17/70\n",
            "136/136 [==============================] - 0s 2ms/step - loss: 6987.8511 - root_mean_squared_error: 83.5934 - val_loss: 7114.1177 - val_root_mean_squared_error: 84.3452\n",
            "Epoch 18/70\n",
            "136/136 [==============================] - 0s 2ms/step - loss: 6989.6216 - root_mean_squared_error: 83.6040 - val_loss: 7114.7090 - val_root_mean_squared_error: 84.3487\n",
            "Epoch 19/70\n",
            "136/136 [==============================] - 0s 2ms/step - loss: 6989.4375 - root_mean_squared_error: 83.6029 - val_loss: 7118.8359 - val_root_mean_squared_error: 84.3732\n",
            "Epoch 20/70\n",
            "136/136 [==============================] - 0s 2ms/step - loss: 6990.5459 - root_mean_squared_error: 83.6095 - val_loss: 7114.8657 - val_root_mean_squared_error: 84.3497\n",
            "Epoch 21/70\n",
            "136/136 [==============================] - 0s 2ms/step - loss: 6990.4741 - root_mean_squared_error: 83.6091 - val_loss: 7114.3179 - val_root_mean_squared_error: 84.3464\n",
            "Epoch 22/70\n",
            "136/136 [==============================] - 0s 2ms/step - loss: 6989.0430 - root_mean_squared_error: 83.6005 - val_loss: 7121.9194 - val_root_mean_squared_error: 84.3915\n",
            "Epoch 23/70\n",
            "136/136 [==============================] - 0s 2ms/step - loss: 6988.9458 - root_mean_squared_error: 83.5999 - val_loss: 7114.4980 - val_root_mean_squared_error: 84.3475\n",
            "Epoch 24/70\n",
            "136/136 [==============================] - 0s 2ms/step - loss: 6990.3857 - root_mean_squared_error: 83.6085 - val_loss: 7115.0059 - val_root_mean_squared_error: 84.3505\n",
            "Epoch 25/70\n",
            "136/136 [==============================] - 0s 2ms/step - loss: 6989.5781 - root_mean_squared_error: 83.6037 - val_loss: 7115.1606 - val_root_mean_squared_error: 84.3514\n",
            "Epoch 26/70\n",
            "136/136 [==============================] - 0s 2ms/step - loss: 6988.2480 - root_mean_squared_error: 83.5957 - val_loss: 7118.6885 - val_root_mean_squared_error: 84.3723\n",
            "Epoch 27/70\n",
            "136/136 [==============================] - 0s 2ms/step - loss: 6990.2588 - root_mean_squared_error: 83.6078 - val_loss: 7114.1313 - val_root_mean_squared_error: 84.3453\n",
            "Epoch 28/70\n",
            "136/136 [==============================] - 0s 2ms/step - loss: 6988.7949 - root_mean_squared_error: 83.5990 - val_loss: 7114.1851 - val_root_mean_squared_error: 84.3456\n",
            "Epoch 29/70\n",
            "136/136 [==============================] - 0s 2ms/step - loss: 6989.7241 - root_mean_squared_error: 83.6046 - val_loss: 7115.1396 - val_root_mean_squared_error: 84.3513\n",
            "Epoch 30/70\n",
            "136/136 [==============================] - 0s 2ms/step - loss: 6989.8726 - root_mean_squared_error: 83.6055 - val_loss: 7114.6528 - val_root_mean_squared_error: 84.3484\n",
            "Epoch 31/70\n",
            "136/136 [==============================] - 0s 2ms/step - loss: 6989.7563 - root_mean_squared_error: 83.6048 - val_loss: 7114.1758 - val_root_mean_squared_error: 84.3456\n",
            "Epoch 32/70\n",
            "136/136 [==============================] - 0s 2ms/step - loss: 6989.3994 - root_mean_squared_error: 83.6026 - val_loss: 7114.9746 - val_root_mean_squared_error: 84.3503\n",
            "Epoch 33/70\n",
            "136/136 [==============================] - 0s 2ms/step - loss: 6989.2666 - root_mean_squared_error: 83.6018 - val_loss: 7114.0713 - val_root_mean_squared_error: 84.3450\n",
            "Epoch 34/70\n",
            "136/136 [==============================] - 0s 2ms/step - loss: 6988.9966 - root_mean_squared_error: 83.6002 - val_loss: 7117.1172 - val_root_mean_squared_error: 84.3630\n",
            "Epoch 35/70\n",
            "136/136 [==============================] - 0s 2ms/step - loss: 6990.6016 - root_mean_squared_error: 83.6098 - val_loss: 7114.2070 - val_root_mean_squared_error: 84.3458\n",
            "Epoch 36/70\n",
            "136/136 [==============================] - 0s 2ms/step - loss: 6988.6187 - root_mean_squared_error: 83.5980 - val_loss: 7115.7266 - val_root_mean_squared_error: 84.3548\n",
            "Epoch 37/70\n",
            "136/136 [==============================] - 0s 2ms/step - loss: 6988.9399 - root_mean_squared_error: 83.5999 - val_loss: 7116.0801 - val_root_mean_squared_error: 84.3569\n",
            "Epoch 38/70\n",
            "136/136 [==============================] - 0s 2ms/step - loss: 6989.3584 - root_mean_squared_error: 83.6024 - val_loss: 7114.0938 - val_root_mean_squared_error: 84.3451\n",
            "Epoch 39/70\n",
            "136/136 [==============================] - 0s 2ms/step - loss: 6988.9170 - root_mean_squared_error: 83.5997 - val_loss: 7114.1528 - val_root_mean_squared_error: 84.3454\n",
            "Epoch 40/70\n",
            "136/136 [==============================] - 0s 2ms/step - loss: 6990.2583 - root_mean_squared_error: 83.6078 - val_loss: 7114.6924 - val_root_mean_squared_error: 84.3486\n",
            "Epoch 41/70\n",
            "136/136 [==============================] - 0s 2ms/step - loss: 6989.8188 - root_mean_squared_error: 83.6051 - val_loss: 7114.7837 - val_root_mean_squared_error: 84.3492\n",
            "Epoch 42/70\n",
            "136/136 [==============================] - 0s 2ms/step - loss: 6990.2695 - root_mean_squared_error: 83.6078 - val_loss: 7114.6782 - val_root_mean_squared_error: 84.3485\n",
            "Epoch 43/70\n",
            "136/136 [==============================] - 0s 2ms/step - loss: 6990.3169 - root_mean_squared_error: 83.6081 - val_loss: 7114.4092 - val_root_mean_squared_error: 84.3470\n",
            "Epoch 44/70\n",
            "136/136 [==============================] - 0s 2ms/step - loss: 6989.9043 - root_mean_squared_error: 83.6056 - val_loss: 7114.0996 - val_root_mean_squared_error: 84.3451\n",
            "Epoch 45/70\n",
            "136/136 [==============================] - 0s 2ms/step - loss: 6987.0552 - root_mean_squared_error: 83.5886 - val_loss: 7118.2822 - val_root_mean_squared_error: 84.3699\n",
            "Epoch 46/70\n",
            "136/136 [==============================] - 0s 2ms/step - loss: 6989.1152 - root_mean_squared_error: 83.6009 - val_loss: 7114.5801 - val_root_mean_squared_error: 84.3480\n",
            "Epoch 47/70\n",
            "136/136 [==============================] - 0s 2ms/step - loss: 6989.7808 - root_mean_squared_error: 83.6049 - val_loss: 7114.8301 - val_root_mean_squared_error: 84.3495\n",
            "Epoch 48/70\n",
            "136/136 [==============================] - 0s 2ms/step - loss: 6989.2393 - root_mean_squared_error: 83.6017 - val_loss: 7115.7661 - val_root_mean_squared_error: 84.3550\n",
            "Epoch 49/70\n",
            "136/136 [==============================] - 0s 2ms/step - loss: 6990.2676 - root_mean_squared_error: 83.6078 - val_loss: 7114.2329 - val_root_mean_squared_error: 84.3459\n",
            "Epoch 50/70\n",
            "136/136 [==============================] - 0s 2ms/step - loss: 6989.3423 - root_mean_squared_error: 83.6023 - val_loss: 7120.6523 - val_root_mean_squared_error: 84.3840\n",
            "Epoch 51/70\n",
            "136/136 [==============================] - 0s 2ms/step - loss: 6990.1982 - root_mean_squared_error: 83.6074 - val_loss: 7114.3218 - val_root_mean_squared_error: 84.3464\n",
            "Epoch 52/70\n",
            "136/136 [==============================] - 0s 2ms/step - loss: 6989.9912 - root_mean_squared_error: 83.6062 - val_loss: 7115.1123 - val_root_mean_squared_error: 84.3511\n",
            "Epoch 53/70\n",
            "136/136 [==============================] - 0s 2ms/step - loss: 6989.6470 - root_mean_squared_error: 83.6041 - val_loss: 7114.8408 - val_root_mean_squared_error: 84.3495\n",
            "Epoch 54/70\n",
            "136/136 [==============================] - 0s 2ms/step - loss: 6989.0239 - root_mean_squared_error: 83.6004 - val_loss: 7114.1455 - val_root_mean_squared_error: 84.3454\n",
            "Epoch 55/70\n",
            "136/136 [==============================] - 0s 2ms/step - loss: 6990.2739 - root_mean_squared_error: 83.6079 - val_loss: 7114.1284 - val_root_mean_squared_error: 84.3453\n",
            "Epoch 56/70\n",
            "136/136 [==============================] - 0s 2ms/step - loss: 6989.3242 - root_mean_squared_error: 83.6022 - val_loss: 7116.7632 - val_root_mean_squared_error: 84.3609\n",
            "Epoch 57/70\n",
            "136/136 [==============================] - 0s 2ms/step - loss: 6988.7236 - root_mean_squared_error: 83.5986 - val_loss: 7114.7402 - val_root_mean_squared_error: 84.3489\n",
            "Epoch 58/70\n",
            "136/136 [==============================] - 0s 2ms/step - loss: 6989.9399 - root_mean_squared_error: 83.6059 - val_loss: 7114.2930 - val_root_mean_squared_error: 84.3463\n",
            "Epoch 59/70\n",
            "136/136 [==============================] - 0s 2ms/step - loss: 6989.7051 - root_mean_squared_error: 83.6045 - val_loss: 7115.8604 - val_root_mean_squared_error: 84.3556\n",
            "Epoch 60/70\n",
            "136/136 [==============================] - 0s 2ms/step - loss: 6989.1616 - root_mean_squared_error: 83.6012 - val_loss: 7116.5098 - val_root_mean_squared_error: 84.3594\n",
            "Epoch 61/70\n",
            "136/136 [==============================] - 0s 2ms/step - loss: 6988.9707 - root_mean_squared_error: 83.6001 - val_loss: 7115.3184 - val_root_mean_squared_error: 84.3523\n",
            "Epoch 62/70\n",
            "136/136 [==============================] - 0s 2ms/step - loss: 6990.0630 - root_mean_squared_error: 83.6066 - val_loss: 7114.1167 - val_root_mean_squared_error: 84.3452\n",
            "Epoch 63/70\n",
            "136/136 [==============================] - 0s 2ms/step - loss: 6987.0439 - root_mean_squared_error: 83.5885 - val_loss: 7118.7305 - val_root_mean_squared_error: 84.3726\n",
            "Epoch 64/70\n",
            "136/136 [==============================] - 0s 2ms/step - loss: 6989.3804 - root_mean_squared_error: 83.6025 - val_loss: 7114.0830 - val_root_mean_squared_error: 84.3450\n",
            "Epoch 65/70\n",
            "136/136 [==============================] - 0s 2ms/step - loss: 6988.2676 - root_mean_squared_error: 83.5959 - val_loss: 7114.1460 - val_root_mean_squared_error: 84.3454\n",
            "Epoch 66/70\n",
            "136/136 [==============================] - 0s 2ms/step - loss: 6990.1621 - root_mean_squared_error: 83.6072 - val_loss: 7115.2798 - val_root_mean_squared_error: 84.3521\n",
            "Epoch 67/70\n",
            "136/136 [==============================] - 0s 2ms/step - loss: 6989.0522 - root_mean_squared_error: 83.6006 - val_loss: 7114.2500 - val_root_mean_squared_error: 84.3460\n",
            "Epoch 68/70\n",
            "136/136 [==============================] - 0s 2ms/step - loss: 6989.6987 - root_mean_squared_error: 83.6044 - val_loss: 7115.0938 - val_root_mean_squared_error: 84.3510\n",
            "Epoch 69/70\n",
            "136/136 [==============================] - 0s 2ms/step - loss: 6990.3115 - root_mean_squared_error: 83.6081 - val_loss: 7115.9839 - val_root_mean_squared_error: 84.3563\n",
            "Epoch 70/70\n",
            "136/136 [==============================] - 0s 2ms/step - loss: 6989.9492 - root_mean_squared_error: 83.6059 - val_loss: 7114.1616 - val_root_mean_squared_error: 84.3455\n",
            "79.19770050048828\n"
          ]
        },
        {
          "output_type": "display_data",
          "data": {
            "text/plain": [
              "<Figure size 432x288 with 1 Axes>"
            ],
            "image/png": "[encoded data removed]"
          },
          "metadata": {
            "needs_background": "light"
          }
        }
      ]
    },
    {
      "cell_type": "markdown",
      "source": [
        "Experiment with the `validation_split` to answer the following questions;\n",
        "- With the training set shuffled, is the final loss fot the training set closer to the final loss for the validation set?\n",
        "- At what range of values of `validation-split` do the final loss values for the training set and the validation set divulge meaningfully? Why?\n",
        "\n",
        "\n",
        "Yes, after shuffling the original training set, the final loss values for the training set and the validation set become more closer.\n",
        "\n",
        "If the validation split is < 0.15, the final loss values for the training set and the validation set divulge meaningfully.\n",
        "\n",
        "Apparently, the validation set no longer contains enough examples."
      ],
      "metadata": {
        "id": "zhkXsntBAvro"
      }
    },
    {
      "cell_type": "markdown",
      "source": [
        "**Task 4: Use the Test Dataset to evaluate your model's perfomance**\n",
        "\n",
        "The test set usuually acts as the ultimate judge of a model's quality.\n",
        "\n",
        "The test set can serve as an impartial judge because it's examples haven't been used in training the model.\n",
        "\n",
        "Run the following code cell to evaluate the model with the test set:"
      ],
      "metadata": {
        "id": "cKiZVW9fClbF"
      }
    },
    {
      "cell_type": "code",
      "source": [
        "x_test = test_df[my_feature]\n",
        "y_test = test_df[my_label]\n",
        "\n",
        "result = my_model.evaluate(x_test, y_test, batch_size = batch_size)"
      ],
      "metadata": {
        "colab": {
          "base_uri": "https://localhost:8080/"
        },
        "id": "vOqfVlkEDcDx",
        "outputId": "03151513-d3a0-4e96-a856-7cbd8a9ad48f"
      },
      "execution_count": 21,
      "outputs": [
        {
          "output_type": "stream",
          "name": "stdout",
          "text": [
            "30/30 [==============================] - 0s 3ms/step - loss: 7010.6118 - root_mean_squared_error: 83.7294\n"
          ]
        }
      ]
    },
    {
      "cell_type": "markdown",
      "source": [
        "Compare the root mean squared error of the model when evaluated of the three datasets.\n",
        "\n",
        "Look for the root mean squared error in the final training epoch fo the `training_set` and `validation_set`, and examine the root mean squared error for the `test_set`.\n",
        "\n",
        "Ideally, the root mean squared error of all th tree sets should be similar. Are they?\n",
        "\n",
        "In our experiments, yes, the rmse values were similar enough."
      ],
      "metadata": {
        "id": "xV926XJhD3nU"
      }
    },
    {
      "cell_type": "code",
      "source": [],
      "metadata": {
        "id": "3ap3YenwE9Hr"
      },
      "execution_count": null,
      "outputs": []
    }
  ]
}