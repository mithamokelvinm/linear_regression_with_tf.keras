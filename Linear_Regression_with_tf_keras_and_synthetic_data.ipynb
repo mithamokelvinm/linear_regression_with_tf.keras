{
  "nbformat": 4,
  "nbformat_minor": 0,
  "metadata": {
    "colab": {
      "provenance": [],
      "authorship_tag": "ABX9TyMHCboeMijwWk57aXbuJ82o",
      "include_colab_link": true
    },
    "kernelspec": {
      "name": "python3",
      "display_name": "Python 3"
    },
    "language_info": {
      "name": "python"
    }
  },
  "cells": [
    {
      "cell_type": "markdown",
      "metadata": {
        "id": "view-in-github",
        "colab_type": "text"
      },
      "source": [
        "<a href=\"https://colab.research.google.com/github/mithamokelvinm/linear_regression_with_tf.keras/blob/main/Linear_Regression_with_tf_keras_and_synthetic_data.ipynb\" target=\"_parent\"><img src=\"https://colab.research.google.com/assets/colab-badge.svg\" alt=\"Open In Colab\"/></a>"
      ]
    },
    {
      "cell_type": "markdown",
      "source": [
        "# Import relevant modules"
      ],
      "metadata": {
        "id": "3yptpkhJ6z_C"
      }
    },
    {
      "cell_type": "code",
      "execution_count": 3,
      "metadata": {
        "id": "Xt3MZ6D26kdv"
      },
      "outputs": [],
      "source": [
        "import pandas as pd\n",
        "import tensorflow as tf\n",
        "from matplotlib import pyplot as plt"
      ]
    },
    {
      "cell_type": "markdown",
      "source": [
        "# Define functions that build and train a model\n",
        "\n",
        "The following code defines two functions:\n",
        "\n",
        "\n",
        "*   `build_model(my_learning_rate)` - builds an empty model\n",
        "*   `train_model(model, feature, label, epochs)` - trains the model from examples\n",
        " \n",
        "  "
      ],
      "metadata": {
        "id": "Z7bwD1K37fIz"
      }
    },
    {
      "cell_type": "code",
      "source": [
        "# Define the functions that build and train a model\n",
        "def build_model(my_learning_rate):\n",
        "  \"\"\"Create and compile a simple linear regression model.\"\"\"\n",
        "  # Most simple tf.keras models are sequential\n",
        "  # A sequential model contains one or more layers\n",
        "  model = tf.keras.models.Sequential()\n",
        "\n",
        "\n",
        "  # Describe the topography of the model\n",
        "  # The topography of a simple linear regression model is a \n",
        "  # single node in a single layer\n",
        "  model.add(tf.keras.layers.Dense(units = 1, input_shape = (1,)))\n",
        "\n",
        "\n",
        "  # Compile the model topography into code that TensorFlow can\n",
        "  # efficiently execute. Configure training to minimize the model's\n",
        "  # mean squared error\n",
        "  model.compile(optimizer = tf.keras.optimizers.RMSprop(lr = my_learning_rate),\n",
        "                loss = \"mean_squared_error\", metrics = \n",
        "                [tf.keras.metrics.RootMeanSquaredError()])\n",
        "  \n",
        "  return model\n",
        "\n",
        "\n",
        "\n",
        "def train_model(model, feature, label, epochs, batch_size):\n",
        "  \"\"\" Train the model by feeding it data. \"\"\"\n",
        "\n",
        "  # Feed the future values and label values to the model\n",
        "  # The model will train for a specific number of epochs,\n",
        "  # gradually learning how the feature values relate to\n",
        "  # the label values\n",
        "  history = model.fit(x = feature, y = label, batch_size = batch_size, \n",
        "                      epochs = epochs)\n",
        "  \n",
        "\n",
        "  # The list of epochs is stored separately from the rest of the history\n",
        "  epochs = history.epoch\n",
        "  \n",
        "\n",
        "  # Gather the trained model's weight and bias\n",
        "  trained_weight = model.get_weights()[0]\n",
        "  trained_bias = model.get_weights()[1]\n",
        "\n",
        "  \n",
        "  # Gather the history (a snapshot) of each epoch\n",
        "  hist = pd.DataFrame(history.history)\n",
        "\n",
        "\n",
        "  # Specifically gather the model's root mean squared error\n",
        "  # at each epoch\n",
        "  rmse = hist[\"root_mean_squared_error\"]\n",
        "\n",
        "\n",
        "  return trained_weight, trained_bias, epochs, rmse\n",
        "\n",
        "\n",
        "print(\"Defined build_model and trained_model functions\")"
      ],
      "metadata": {
        "colab": {
          "base_uri": "https://localhost:8080/"
        },
        "id": "s3GrXkjH7dcV",
        "outputId": "0ec28518-11c1-44cd-bf3e-67fc392ff737"
      },
      "execution_count": 4,
      "outputs": [
        {
          "output_type": "stream",
          "name": "stdout",
          "text": [
            "Defined build_model and trained_model functions\n"
          ]
        }
      ]
    },
    {
      "cell_type": "markdown",
      "source": [
        "# Define plotting functions\n",
        "\n",
        "Here we'll use matplotlib to create the following two plots:\n",
        "* A plot of feature values vs label values, and a line showing the \n",
        "output of the  model\n",
        "* A loss curve"
      ],
      "metadata": {
        "id": "vYtfwie0DjVk"
      }
    },
    {
      "cell_type": "code",
      "source": [
        "# Define the plotting functions\n",
        "def plot_the_model(trained_weight, trained_bias, feature, label):\n",
        "  \"\"\"Plot the trained model aganist the trained feature and label.\"\"\"\n",
        "\n",
        "  # Label the axes\n",
        "  plt.xlabel(\"feature\")\n",
        "  plt.ylabel(\"label\")\n",
        "\n",
        "\n",
        "  # Plot the feature values vs. label values\n",
        "  plt.scatter(feature, label)\n",
        "\n",
        "\n",
        "  # Create a red line representing the model. This red line starts at \n",
        "  # coordinates (x0, y0) and ends at coordinates (x1, y1)\n",
        "  x0 = 0\n",
        "  y0 = trained_bias\n",
        "  x1 = feature[-1]\n",
        "  y1 = trained_bias + (trained_weight * x1)\n",
        "  plt.plot([x0, x1], [y0, y1], c = 'r')\n",
        "\n",
        "\n",
        "  # Render the scatter plot and the red line\n",
        "  plt.show()\n",
        "\n",
        "\n",
        "def plot_the_loss_curve(epochs, rmse):\n",
        "  \"\"\"Plot the loss curve, which shows loss vs. epochs.\"\"\"\n",
        "\n",
        "  plt.figure()\n",
        "  plt.xlabel(\"Epoch\")\n",
        "  plt.ylabel(\"Root Mean Squared Error\")\n",
        "\n",
        "\n",
        "  plt.plot(epochs, rmse, label=\"Loss\")\n",
        "  plt.legend()\n",
        "  plt.ylim([rmse.min()*0.97, rmse.max()])\n",
        "  plt.show()\n",
        "\n",
        "\n",
        "print(\"Defined the plot_the_model and plot_the loss_curve_functions\")\n"
      ],
      "metadata": {
        "colab": {
          "base_uri": "https://localhost:8080/"
        },
        "id": "FUhSoaakDZ5a",
        "outputId": "2a3e29c4-f83f-4d0b-c598-724a90e2d254"
      },
      "execution_count": 5,
      "outputs": [
        {
          "output_type": "stream",
          "name": "stdout",
          "text": [
            "Defined the plot_the_model and plot_the loss_curve_functions\n"
          ]
        }
      ]
    },
    {
      "cell_type": "markdown",
      "source": [
        "# Define the DataSet\n",
        "We'll use a dataset consisting of 12 examples.\n",
        "Each example will consist of one feature and one label.\n"
      ],
      "metadata": {
        "id": "mybrnZyuHrNP"
      }
    },
    {
      "cell_type": "code",
      "source": [
        "# Define features and labels\n",
        "my_feature = ([1.0, 2.0, 3.0, 4.0, 5.0, 6.0, 7.0, 8.0, 9.0, 10.0, 11.0, 12.0])\n",
        "my_label = ([5.0, 8.8, 9.6, 14.2, 18.8, 19.5, 21.4, 26.8, 28.9, 32.0, 33.8, 38.2])"
      ],
      "metadata": {
        "id": "sfeO-tb6HRYl"
      },
      "execution_count": 6,
      "outputs": []
    },
    {
      "cell_type": "markdown",
      "source": [
        "# Specify the hyperparameters\n",
        "The hyperparameters in this Colab are as follows:\n",
        "* learning rate\n",
        "* epochs\n",
        "* batch_size\n",
        "\n",
        "The following code cell initializes these hyperparameters and then invokes the fuctions that build and train the model"
      ],
      "metadata": {
        "id": "kG4yeAchI5yr"
      }
    },
    {
      "cell_type": "code",
      "source": [
        "# Initializing hyperparameters\n",
        "learning_rate = 0.01\n",
        "epochs = 10\n",
        "my_batch_size = 12\n",
        "\n",
        "\n",
        "# Invoking the functions that build and train the model\n",
        "my_model = build_model(learning_rate)\n",
        "trained_weight, trained_bias, epochs, rmse = train_model(my_model, my_feature,\n",
        "                                                         my_label, epochs,\n",
        "                                                         my_batch_size)\n",
        "\n",
        "\n",
        "# Invoking the plot functions\n",
        "plot_the_model(trained_weight, trained_bias, my_feature, my_label)\n",
        "plot_the_loss_curve(epochs, rmse)"
      ],
      "metadata": {
        "colab": {
          "base_uri": "https://localhost:8080/",
          "height": 982
        },
        "id": "h0JeESB1I0so",
        "outputId": "bab0791a-090f-4fec-da76-3e1ec464b501"
      },
      "execution_count": 7,
      "outputs": [
        {
          "output_type": "stream",
          "name": "stderr",
          "text": [
            "/usr/local/lib/python3.7/dist-packages/keras/optimizers/optimizer_v2/rmsprop.py:135: UserWarning: The `lr` argument is deprecated, use `learning_rate` instead.\n",
            "  super(RMSprop, self).__init__(name, **kwargs)\n"
          ]
        },
        {
          "output_type": "stream",
          "name": "stdout",
          "text": [
            "Epoch 1/10\n",
            "1/1 [==============================] - 1s 771ms/step - loss: 343.6161 - root_mean_squared_error: 18.5369\n",
            "Epoch 2/10\n",
            "1/1 [==============================] - 0s 16ms/step - loss: 334.0171 - root_mean_squared_error: 18.2761\n",
            "Epoch 3/10\n",
            "1/1 [==============================] - 0s 11ms/step - loss: 327.1848 - root_mean_squared_error: 18.0883\n",
            "Epoch 4/10\n",
            "1/1 [==============================] - 0s 17ms/step - loss: 321.5415 - root_mean_squared_error: 17.9316\n",
            "Epoch 5/10\n",
            "1/1 [==============================] - 0s 14ms/step - loss: 316.5886 - root_mean_squared_error: 17.7929\n",
            "Epoch 6/10\n",
            "1/1 [==============================] - 0s 10ms/step - loss: 312.0950 - root_mean_squared_error: 17.6662\n",
            "Epoch 7/10\n",
            "1/1 [==============================] - 0s 11ms/step - loss: 307.9324 - root_mean_squared_error: 17.5480\n",
            "Epoch 8/10\n",
            "1/1 [==============================] - 0s 9ms/step - loss: 304.0209 - root_mean_squared_error: 17.4362\n",
            "Epoch 9/10\n",
            "1/1 [==============================] - 0s 13ms/step - loss: 300.3073 - root_mean_squared_error: 17.3294\n",
            "Epoch 10/10\n",
            "1/1 [==============================] - 0s 10ms/step - loss: 296.7539 - root_mean_squared_error: 17.2265\n"
          ]
        },
        {
          "output_type": "stream",
          "name": "stderr",
          "text": [
            "/usr/local/lib/python3.7/dist-packages/numpy/core/shape_base.py:65: VisibleDeprecationWarning: Creating an ndarray from ragged nested sequences (which is a list-or-tuple of lists-or-tuples-or ndarrays with different lengths or shapes) is deprecated. If you meant to do this, you must specify 'dtype=object' when creating the ndarray.\n",
            "  ary = asanyarray(ary)\n"
          ]
        },
        {
          "output_type": "display_data",
          "data": {
            "text/plain": [
              "<Figure size 432x288 with 1 Axes>"
            ],
            "image/png": "[encoded data removed]"
          },
          "metadata": {
            "needs_background": "light"
          }
        },
        {
          "output_type": "display_data",
          "data": {
            "text/plain": [
              "<Figure size 432x288 with 1 Axes>"
            ],
            "image/png": "[encoded data removed]"
          },
          "metadata": {
            "needs_background": "light"
          }
        }
      ]
    },
    {
      "cell_type": "markdown",
      "source": [
        "The above hyperparameters did not result to flattening of the curve. If the curve doesn't flatten out the model hasen't trained suffieciently. We'll need to tune the hyperparameters further."
      ],
      "metadata": {
        "id": "lIXoax58HuYq"
      }
    },
    {
      "cell_type": "markdown",
      "source": [
        "# Defining a function to tune the hyperparameters\n",
        "The function below takes the learning_rate, batch_size, and epochs as input and plots the model and the loss curve.\n",
        "Adjust the hyperparameters when invoking the function until you have an ideal set of hyperparameters that results to a well trained model."
      ],
      "metadata": {
        "id": "JJTHz_ULIRxO"
      }
    },
    {
      "cell_type": "code",
      "source": [
        "# Defining a function to tune hyperparameters\n",
        "def tune_hyperparameters(l_rate, ep, b_size ):\n",
        "\n",
        "  # Initializing the hyperparameters\n",
        "  learning_rate = l_rate\n",
        "  epochs = ep\n",
        "  my_batch_size = b_size\n",
        "  \n",
        "\n",
        "  # Invoking the build_model and train_model functions\n",
        "  my_model = build_model(learning_rate)\n",
        "  trained_weight, trained_bias, epochs, rmse = train_model(my_model, my_feature,\n",
        "                                                           my_label, epochs,\n",
        "                                                           my_batch_size)\n",
        "  \n",
        "\n",
        "  # Invoking the plotting functions\n",
        "  plot_the_model(trained_weight, trained_bias, my_feature, my_label)\n",
        "  plot_the_loss_curve(epochs, rmse)\n",
        "  "
      ],
      "metadata": {
        "id": "jMDpFVVNLGaa"
      },
      "execution_count": 8,
      "outputs": []
    },
    {
      "cell_type": "markdown",
      "source": [
        "# Invoke the `tune_hyperparameters(l_rate, ep, b_size)` to tune the hyperparameters"
      ],
      "metadata": {
        "id": "NjY5n-XBMN1K"
      }
    },
    {
      "cell_type": "code",
      "source": [
        "tune_hyperparameters(0.14, 70, 12)"
      ],
      "metadata": {
        "colab": {
          "base_uri": "https://localhost:8080/",
          "height": 1000
        },
        "id": "-VUG8rwIMLae",
        "outputId": "5b7ec9c3-fb59-41e8-db05-64067cf80f0a"
      },
      "execution_count": 9,
      "outputs": [
        {
          "output_type": "stream",
          "name": "stdout",
          "text": [
            "Epoch 1/70\n"
          ]
        },
        {
          "output_type": "stream",
          "name": "stderr",
          "text": [
            "/usr/local/lib/python3.7/dist-packages/keras/optimizers/optimizer_v2/rmsprop.py:135: UserWarning: The `lr` argument is deprecated, use `learning_rate` instead.\n",
            "  super(RMSprop, self).__init__(name, **kwargs)\n"
          ]
        },
        {
          "output_type": "stream",
          "name": "stdout",
          "text": [
            "1/1 [==============================] - 0s 314ms/step - loss: 918.2833 - root_mean_squared_error: 30.3032\n",
            "Epoch 2/70\n",
            "1/1 [==============================] - 0s 10ms/step - loss: 710.2784 - root_mean_squared_error: 26.6510\n",
            "Epoch 3/70\n",
            "1/1 [==============================] - 0s 9ms/step - loss: 584.1384 - root_mean_squared_error: 24.1690\n",
            "Epoch 4/70\n",
            "1/1 [==============================] - 0s 9ms/step - loss: 491.9583 - root_mean_squared_error: 22.1801\n",
            "Epoch 5/70\n",
            "1/1 [==============================] - 0s 12ms/step - loss: 419.3819 - root_mean_squared_error: 20.4788\n",
            "Epoch 6/70\n",
            "1/1 [==============================] - 0s 10ms/step - loss: 359.9227 - root_mean_squared_error: 18.9716\n",
            "Epoch 7/70\n",
            "1/1 [==============================] - 0s 10ms/step - loss: 310.0205 - root_mean_squared_error: 17.6074\n",
            "Epoch 8/70\n",
            "1/1 [==============================] - 0s 11ms/step - loss: 267.4789 - root_mean_squared_error: 16.3548\n",
            "Epoch 9/70\n",
            "1/1 [==============================] - 0s 11ms/step - loss: 230.8313 - root_mean_squared_error: 15.1931\n",
            "Epoch 10/70\n",
            "1/1 [==============================] - 0s 9ms/step - loss: 199.0394 - root_mean_squared_error: 14.1081\n",
            "Epoch 11/70\n",
            "1/1 [==============================] - 0s 11ms/step - loss: 171.3353 - root_mean_squared_error: 13.0895\n",
            "Epoch 12/70\n",
            "1/1 [==============================] - 0s 11ms/step - loss: 147.1294 - root_mean_squared_error: 12.1297\n",
            "Epoch 13/70\n",
            "1/1 [==============================] - 0s 17ms/step - loss: 125.9553 - root_mean_squared_error: 11.2230\n",
            "Epoch 14/70\n",
            "1/1 [==============================] - 0s 9ms/step - loss: 107.4348 - root_mean_squared_error: 10.3651\n",
            "Epoch 15/70\n",
            "1/1 [==============================] - 0s 14ms/step - loss: 91.2534 - root_mean_squared_error: 9.5527\n",
            "Epoch 16/70\n",
            "1/1 [==============================] - 0s 12ms/step - loss: 77.1452 - root_mean_squared_error: 8.7832\n",
            "Epoch 17/70\n",
            "1/1 [==============================] - 0s 10ms/step - loss: 64.8810 - root_mean_squared_error: 8.0549\n",
            "Epoch 18/70\n",
            "1/1 [==============================] - 0s 11ms/step - loss: 54.2599 - root_mean_squared_error: 7.3661\n",
            "Epoch 19/70\n",
            "1/1 [==============================] - 0s 8ms/step - loss: 45.1041 - root_mean_squared_error: 6.7160\n",
            "Epoch 20/70\n",
            "1/1 [==============================] - 0s 10ms/step - loss: 37.2540 - root_mean_squared_error: 6.1036\n",
            "Epoch 21/70\n",
            "1/1 [==============================] - 0s 10ms/step - loss: 30.5649 - root_mean_squared_error: 5.5286\n",
            "Epoch 22/70\n",
            "1/1 [==============================] - 0s 9ms/step - loss: 24.9051 - root_mean_squared_error: 4.9905\n",
            "Epoch 23/70\n",
            "1/1 [==============================] - 0s 9ms/step - loss: 20.1539 - root_mean_squared_error: 4.4893\n",
            "Epoch 24/70\n",
            "1/1 [==============================] - 0s 9ms/step - loss: 16.2001 - root_mean_squared_error: 4.0249\n",
            "Epoch 25/70\n",
            "1/1 [==============================] - 0s 13ms/step - loss: 12.9416 - root_mean_squared_error: 3.5974\n",
            "Epoch 26/70\n",
            "1/1 [==============================] - 0s 10ms/step - loss: 10.2845 - root_mean_squared_error: 3.2069\n",
            "Epoch 27/70\n",
            "1/1 [==============================] - 0s 10ms/step - loss: 8.1428 - root_mean_squared_error: 2.8536\n",
            "Epoch 28/70\n",
            "1/1 [==============================] - 0s 9ms/step - loss: 6.4384 - root_mean_squared_error: 2.5374\n",
            "Epoch 29/70\n",
            "1/1 [==============================] - 0s 10ms/step - loss: 5.1004 - root_mean_squared_error: 2.2584\n",
            "Epoch 30/70\n",
            "1/1 [==============================] - 0s 32ms/step - loss: 4.0656 - root_mean_squared_error: 2.0163\n",
            "Epoch 31/70\n",
            "1/1 [==============================] - 0s 39ms/step - loss: 3.2780 - root_mean_squared_error: 1.8105\n",
            "Epoch 32/70\n",
            "1/1 [==============================] - 0s 24ms/step - loss: 2.6886 - root_mean_squared_error: 1.6397\n",
            "Epoch 33/70\n",
            "1/1 [==============================] - 0s 18ms/step - loss: 2.2556 - root_mean_squared_error: 1.5019\n",
            "Epoch 34/70\n",
            "1/1 [==============================] - 0s 10ms/step - loss: 1.9435 - root_mean_squared_error: 1.3941\n",
            "Epoch 35/70\n",
            "1/1 [==============================] - 0s 11ms/step - loss: 1.7229 - root_mean_squared_error: 1.3126\n",
            "Epoch 36/70\n",
            "1/1 [==============================] - 0s 9ms/step - loss: 1.5700 - root_mean_squared_error: 1.2530\n",
            "Epoch 37/70\n",
            "1/1 [==============================] - 0s 9ms/step - loss: 1.4661 - root_mean_squared_error: 1.2108\n",
            "Epoch 38/70\n",
            "1/1 [==============================] - 0s 10ms/step - loss: 1.3966 - root_mean_squared_error: 1.1818\n",
            "Epoch 39/70\n",
            "1/1 [==============================] - 0s 12ms/step - loss: 1.3507 - root_mean_squared_error: 1.1622\n",
            "Epoch 40/70\n",
            "1/1 [==============================] - 0s 9ms/step - loss: 1.3203 - root_mean_squared_error: 1.1490\n",
            "Epoch 41/70\n",
            "1/1 [==============================] - 0s 9ms/step - loss: 1.2998 - root_mean_squared_error: 1.1401\n",
            "Epoch 42/70\n",
            "1/1 [==============================] - 0s 10ms/step - loss: 1.2854 - root_mean_squared_error: 1.1337\n",
            "Epoch 43/70\n",
            "1/1 [==============================] - 0s 33ms/step - loss: 1.2745 - root_mean_squared_error: 1.1289\n",
            "Epoch 44/70\n",
            "1/1 [==============================] - 0s 33ms/step - loss: 1.2656 - root_mean_squared_error: 1.1250\n",
            "Epoch 45/70\n",
            "1/1 [==============================] - 0s 23ms/step - loss: 1.2576 - root_mean_squared_error: 1.1214\n",
            "Epoch 46/70\n",
            "1/1 [==============================] - 0s 27ms/step - loss: 1.2501 - root_mean_squared_error: 1.1181\n",
            "Epoch 47/70\n",
            "1/1 [==============================] - 0s 10ms/step - loss: 1.2426 - root_mean_squared_error: 1.1147\n",
            "Epoch 48/70\n",
            "1/1 [==============================] - 0s 13ms/step - loss: 1.2350 - root_mean_squared_error: 1.1113\n",
            "Epoch 49/70\n",
            "1/1 [==============================] - 0s 14ms/step - loss: 1.2273 - root_mean_squared_error: 1.1078\n",
            "Epoch 50/70\n",
            "1/1 [==============================] - 0s 10ms/step - loss: 1.2194 - root_mean_squared_error: 1.1042\n",
            "Epoch 51/70\n",
            "1/1 [==============================] - 0s 9ms/step - loss: 1.2112 - root_mean_squared_error: 1.1005\n",
            "Epoch 52/70\n",
            "1/1 [==============================] - 0s 9ms/step - loss: 1.2028 - root_mean_squared_error: 1.0967\n",
            "Epoch 53/70\n",
            "1/1 [==============================] - 0s 18ms/step - loss: 1.1942 - root_mean_squared_error: 1.0928\n",
            "Epoch 54/70\n",
            "1/1 [==============================] - 0s 10ms/step - loss: 1.1853 - root_mean_squared_error: 1.0887\n",
            "Epoch 55/70\n",
            "1/1 [==============================] - 0s 10ms/step - loss: 1.1763 - root_mean_squared_error: 1.0846\n",
            "Epoch 56/70\n",
            "1/1 [==============================] - 0s 10ms/step - loss: 1.1670 - root_mean_squared_error: 1.0803\n",
            "Epoch 57/70\n",
            "1/1 [==============================] - 0s 9ms/step - loss: 1.1576 - root_mean_squared_error: 1.0759\n",
            "Epoch 58/70\n",
            "1/1 [==============================] - 0s 14ms/step - loss: 1.1480 - root_mean_squared_error: 1.0714\n",
            "Epoch 59/70\n",
            "1/1 [==============================] - 0s 9ms/step - loss: 1.1382 - root_mean_squared_error: 1.0669\n",
            "Epoch 60/70\n",
            "1/1 [==============================] - 0s 10ms/step - loss: 1.1283 - root_mean_squared_error: 1.0622\n",
            "Epoch 61/70\n",
            "1/1 [==============================] - 0s 9ms/step - loss: 1.1182 - root_mean_squared_error: 1.0575\n",
            "Epoch 62/70\n",
            "1/1 [==============================] - 0s 9ms/step - loss: 1.1081 - root_mean_squared_error: 1.0527\n",
            "Epoch 63/70\n",
            "1/1 [==============================] - 0s 11ms/step - loss: 1.0978 - root_mean_squared_error: 1.0478\n",
            "Epoch 64/70\n",
            "1/1 [==============================] - 0s 10ms/step - loss: 1.0875 - root_mean_squared_error: 1.0429\n",
            "Epoch 65/70\n",
            "1/1 [==============================] - 0s 11ms/step - loss: 1.0772 - root_mean_squared_error: 1.0379\n",
            "Epoch 66/70\n",
            "1/1 [==============================] - 0s 17ms/step - loss: 1.0669 - root_mean_squared_error: 1.0329\n",
            "Epoch 67/70\n",
            "1/1 [==============================] - 0s 9ms/step - loss: 1.0565 - root_mean_squared_error: 1.0279\n",
            "Epoch 68/70\n",
            "1/1 [==============================] - 0s 9ms/step - loss: 1.0463 - root_mean_squared_error: 1.0229\n",
            "Epoch 69/70\n",
            "1/1 [==============================] - 0s 9ms/step - loss: 1.0361 - root_mean_squared_error: 1.0179\n",
            "Epoch 70/70\n",
            "1/1 [==============================] - 0s 9ms/step - loss: 1.0260 - root_mean_squared_error: 1.0129\n"
          ]
        },
        {
          "output_type": "stream",
          "name": "stderr",
          "text": [
            "/usr/local/lib/python3.7/dist-packages/numpy/core/shape_base.py:65: VisibleDeprecationWarning: Creating an ndarray from ragged nested sequences (which is a list-or-tuple of lists-or-tuples-or ndarrays with different lengths or shapes) is deprecated. If you meant to do this, you must specify 'dtype=object' when creating the ndarray.\n",
            "  ary = asanyarray(ary)\n"
          ]
        },
        {
          "output_type": "display_data",
          "data": {
            "text/plain": [
              "<Figure size 432x288 with 1 Axes>"
            ],
            "image/png": "[encoded data removed]"
          },
          "metadata": {
            "needs_background": "light"
          }
        },
        {
          "output_type": "display_data",
          "data": {
            "text/plain": [
              "<Figure size 432x288 with 1 Axes>"
            ],
            "image/png": "[encoded data removed]"
          },
          "metadata": {
            "needs_background": "light"
          }
        }
      ]
    },
    {
      "cell_type": "code",
      "source": [],
      "metadata": {
        "id": "HUj7Fd-tM_pj"
      },
      "execution_count": null,
      "outputs": []
    }
  ]
}